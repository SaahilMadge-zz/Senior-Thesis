{
 "cells": [
  {
   "cell_type": "code",
   "execution_count": 8,
   "metadata": {
    "collapsed": true
   },
   "outputs": [],
   "source": [
    "import os\n",
    "import numpy as np"
   ]
  },
  {
   "cell_type": "code",
   "execution_count": 45,
   "metadata": {
    "collapsed": false
   },
   "outputs": [
    {
     "name": "stdout",
     "output_type": "stream",
     "text": [
      "[['who' 'tried' 'mannerisms']\n",
      " ['who' 'was' 'tried']\n",
      " ['Wilson' 'writer' 'mannerisms']\n",
      " ['Wilson' 'was' 'writer']\n",
      " ['young' 'speaks' 'moods']\n",
      " ['young' 'speaks' 'himself']\n",
      " ['young' 'are' 'speaks']\n",
      " ['he' 'entangle' 'moods']\n",
      " ['he' 'entangle' 'himself']\n",
      " ['he' 'are' 'entangle']\n",
      " ['which' 'reflect' 'moods']\n",
      " ['which' 'reflect' 'himself']\n",
      " ['which' 'are' 'reflect']\n",
      " ['which' 'informal' 'moods']\n",
      " ['which' 'informal' 'himself']\n",
      " ['which' 'are' 'informal']\n",
      " ['Wilson' 'speaks' 'moods']\n",
      " ['Wilson' 'speaks' 'himself']\n",
      " ['Wilson' 'are' 'speaks']\n",
      " ['he' 'resort' 'moods']\n",
      " ['he' 'resort' 'himself']\n",
      " ['he' 'are' 'resort']\n",
      " ['middle-aged' 'speaks' 'moods']\n",
      " ['middle-aged' 'speaks' 'himself']\n",
      " ['middle-aged' 'are' 'speaks']\n",
      " ['that' 'Is' 'tones']\n",
      " ['he' 'Is' 'become']\n",
      " ['it' 'harmful' 'humanity']\n",
      " ['it' 'harmful' 'effects']\n",
      " ['it' 'is' 'harmful']\n",
      " ['belief' 'have' 'humanity']\n",
      " ['belief' 'have' 'effects']\n",
      " ['belief' 'is' 'have']\n",
      " ['heroes' 'have' 'that']\n",
      " ['heroes' 'have' 'belief']\n",
      " ['heroes' 'be' 'have']\n",
      " ['heroes' 'be' 'have']\n",
      " ['it' 'promotes' 'that']\n",
      " ['it' 'promotes' 'belief']\n",
      " ['it' 'be' 'promotes']\n",
      " ['it' 'be' 'promotes']\n",
      " ['it' 'censors' 'investigation']\n",
      " ['colors' 'be' 'drab']\n",
      " ['colors' 'are' 'drab']\n",
      " ['colors' 'are' 'drab']\n",
      " ['colors' 'be' 'predictable']\n",
      " ['colors' 'are' 'predictable']\n",
      " ['colors' 'are' 'predictable']\n",
      " ['paintings' 'be' 'stock']\n",
      " ['paintings' 'are' 'stock']\n",
      " ['paintings' 'are' 'stock']\n",
      " ['representations' 'be' 'likely']\n",
      " ['representations' 'are' 'likely']\n",
      " ['representations' 'are' 'likely']\n",
      " ['paintings' 'be' 'cramped']\n",
      " ['paintings' 'are' 'cramped']\n",
      " ['paintings' 'are' 'cramped']\n",
      " ['They' 'capture' 'breadth']\n",
      " ['They' 'capture' 'complexity']]\n",
      "59\n"
     ]
    }
   ],
   "source": [
    "filename = (\"/Users/SaahilM/Documents/Princeton/Academics/Thesis/\"\n",
    "\"Senior Thesis Code/ModifiedEntityGraph/prod/MCTest/production/MCTest/testOutput.txt\")\n",
    "\n",
    "tripleList = []\n",
    "\n",
    "f = open(filename, 'r')\n",
    "for triple in f:\n",
    "    # remove brackets, commas\n",
    "#      print triple\n",
    "    # print triple[1:-1]\n",
    "    # print triple[2:-3]\n",
    "    formattedTriple = np.array(triple[2:-2].strip().split(\",\"))\n",
    "#     print formattedTriple\n",
    "    remPOS = np.vectorize(lambda x: x.strip().split(\"/\")[0])\n",
    "    # remove part of speech\n",
    "    newFormattedTriple = remPOS(formattedTriple)\n",
    "#     print newFormattedTriple\n",
    "    tripleList.append(newFormattedTriple)\n",
    "tripleList = np.array(tripleList)\n",
    "print tripleList\n",
    "print len(tripleList)"
   ]
  },
  {
   "cell_type": "code",
   "execution_count": 47,
   "metadata": {
    "collapsed": false
   },
   "outputs": [
    {
     "name": "stdout",
     "output_type": "stream",
     "text": [
      "set(['breadth', 'Wilson', 'it', 'colors', 'have', 'belief', 'paintings', 'informal', 'writer', 'young', 'moods', 'resort', 'investigation', 'which', 'speaks', 'humanity', 'stock', 'himself', 'tried', 'that', 'who', 'middle-aged', 'reflect', 'predictable', 'effects', 'drab', 'representations', 'heroes', 'he', 'entangle', 'harmful', 'likely', 'promotes', 'complexity', 'cramped', 'tones', 'They', 'become', 'mannerisms'])\n",
      "set(['entangle', 'harmful', 'tried', 'be', 'informal', 'Is', 'writer', 'censors', 'promotes', 'reflect', 'resort', 'capture', 'are', 'have', 'speaks', 'was', 'is'])\n",
      "39\n",
      "17\n",
      "\n",
      "{0: 'breadth', 'breadth': 0, 'Wilson': 1, 3: 'colors', 4: 'have', 5: 'belief', 6: 'paintings', 1: 'Wilson', 8: 'writer', 9: 'young', 10: 'moods', 11: 'resort', 12: 'investigation', 'it': 2, 14: 'speaks', 15: 'humanity', 16: 'stock', 17: 'himself', 'colors': 3, 19: 'that', 20: 'who', 21: 'middle-aged', 'have': 4, 23: 'predictable', 24: 'effects', 25: 'drab', 'mannerisms': 38, 27: 'heroes', 28: 'he', 26: 'representations', 30: 'harmful', 'tried': 18, 32: 'promotes', 33: 'complexity', 18: 'tried', 35: 'tones', 36: 'They', 37: 'become', 'paintings': 6, 'informal': 7, 'writer': 8, 'young': 9, 29: 'entangle', 'resort': 11, 'investigation': 12, 'which': 13, 'speaks': 14, 'humanity': 15, 'stock': 16, 2: 'it', 'himself': 17, 'belief': 5, 'that': 19, 31: 'likely', 'who': 20, 'middle-aged': 21, 34: 'cramped', 13: 'which', 'reflect': 22, 22: 'reflect', 'predictable': 23, 'moods': 10, 'drab': 25, 7: 'informal', 'representations': 26, 'heroes': 27, 'he': 28, 'entangle': 29, 'harmful': 30, 38: 'mannerisms', 'likely': 31, 'promotes': 32, 'complexity': 33, 'cramped': 34, 'tones': 35, 'They': 36, 'become': 37, 'effects': 24}\n",
      "{0: 'entangle', 1: 'harmful', 2: 'tried', 3: 'be', 4: 'informal', 5: 'Is', 6: 'writer', 7: 'censors', 8: 'promotes', 9: 'reflect', 'is': 16, 11: 'capture', 12: 'are', 13: 'have', 14: 'speaks', 15: 'was', 16: 'is', 'are': 12, 'have': 13, 'capture': 11, 'informal': 4, 'writer': 6, 'resort': 10, 'speaks': 14, 'was': 15, 10: 'resort', 'be': 3, 'tried': 2, 'harmful': 1, 'entangle': 0, 'reflect': 9, 'Is': 5, 'promotes': 8, 'censors': 7}\n",
      "52.0\n"
     ]
    }
   ],
   "source": [
    "# Create the entity-relation tensor\n",
    "enSet = set()\n",
    "relSet = set()\n",
    "for triple in tripleList:\n",
    "    # Add the two entities and relation to the set\n",
    "    en1 = triple[0]\n",
    "    rel = triple[1]\n",
    "    en2 = triple[2]\n",
    "    enSet.add(en1)\n",
    "    enSet.add(en2)\n",
    "    relSet.add(rel)\n",
    "#     for word in triple:\n",
    "#         if word not in wordSet:\n",
    "#             wordSet.add(word)\n",
    "print enSet\n",
    "print relSet\n",
    "numEns = len(enSet)\n",
    "numRels = len(relSet)\n",
    "print numEns\n",
    "print numRels\n",
    "\n",
    "# create a mapping of entities to integers and reverse\n",
    "enMap = {}\n",
    "relMap = {}\n",
    "counter = 0\n",
    "for en in enSet:\n",
    "    enMap[en] = counter\n",
    "    counter += 1\n",
    "counter = 0\n",
    "for rel in relSet:\n",
    "    relMap[rel] = counter\n",
    "    counter += 1\n",
    "revEn=dict([reversed(i) for i in enMap.items()])\n",
    "enMap.update(revEn)\n",
    "revRel=dict([reversed(i) for i in relMap.items()])\n",
    "relMap.update(revRel)\n",
    "print ''\n",
    "print enMap\n",
    "print relMap\n",
    "\n",
    "# make entity-relation tensor now\n",
    "tensor = []\n",
    "for i in xrange(numRels):\n",
    "    tensor.append(np.zeros((numEns, numEns)))\n",
    "tensor = np.array(tensor)\n",
    "\n",
    "for triple in tripleList:\n",
    "    en1 = triple[0]\n",
    "    rel = triple[1]\n",
    "    en2 = triple[2]\n",
    "    \n",
    "    tensor[relMap[rel]][enMap[en1]][enMap[en2]] = 1\n",
    "print np.sum(tensor)"
   ]
  },
  {
   "cell_type": "code",
   "execution_count": null,
   "metadata": {
    "collapsed": true
   },
   "outputs": [],
   "source": []
  }
 ],
 "metadata": {
  "kernelspec": {
   "display_name": "Python 2",
   "language": "python",
   "name": "python2"
  },
  "language_info": {
   "codemirror_mode": {
    "name": "ipython",
    "version": 2
   },
   "file_extension": ".py",
   "mimetype": "text/x-python",
   "name": "python",
   "nbconvert_exporter": "python",
   "pygments_lexer": "ipython2",
   "version": "2.7.10"
  }
 },
 "nbformat": 4,
 "nbformat_minor": 0
}
