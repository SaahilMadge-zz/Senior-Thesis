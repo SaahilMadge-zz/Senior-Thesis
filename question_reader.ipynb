{
 "cells": [
  {
   "cell_type": "code",
   "execution_count": null,
   "metadata": {
    "collapsed": true
   },
   "outputs": [],
   "source": [
    "import numpy as np"
   ]
  },
  {
   "cell_type": "code",
   "execution_count": null,
   "metadata": {
    "collapsed": true
   },
   "outputs": [],
   "source": [
    "class question_reader:\n",
    "    \n",
    "    def __init__(self, filename):\n",
    "#         filename = (\"/Users/SaahilM/Documents/Princeton/Academics/Thesis/\"\n",
    "#         \"SAT Test Pictures/2005 10 SAT collegeboard/TextFiles/3/short1-questions.txt\")\n",
    "        questionSet = open(filename, 'r')\n",
    "        # read every six lines\n",
    "        questions = map(lambda x: x.strip().replace(\"\\\\xe2\\\\x80\\\\x99\",\"'\"), questionSet.readlines())\n",
    "        LINES_PER_QUESTION = 6\n",
    "        numQuestions = len(questions)/LINES_PER_QUESTION\n",
    "        questionCombos = []\n",
    "        # for i in questions:\n",
    "        #     print i\n",
    "        for i in xrange(numQuestions):\n",
    "            #remove number at top\n",
    "            start_index = LINES_PER_QUESTION*i\n",
    "            question = questions[start_index]\n",
    "            question = \" \".join(question.split(\" \")[1:])\n",
    "\n",
    "            #TODO\n",
    "            if \"?\" in question:\n",
    "                continue\n",
    "\n",
    "            # create a list with each answer combo\n",
    "            a = \" \".join(questions[start_index+1].split(\" \")[1:])\n",
    "            b = \" \".join(questions[start_index+2].split(\" \")[1:])\n",
    "            c = \" \".join(questions[start_index+3].split(\" \")[1:])\n",
    "            d = \" \".join(questions[start_index+4].split(\" \")[1:])\n",
    "            e = \" \".join(questions[start_index+5].split(\" \")[1:])\n",
    "\n",
    "            curquestion = []\n",
    "            curquestion.append(question)\n",
    "            curquestion.append(a)\n",
    "            curquestion.append(b)\n",
    "            curquestion.append(c)\n",
    "            curquestion.append(d)\n",
    "            curquestion.append(e)\n",
    "#             curquestion.append(question+\" \" + a)\n",
    "#             curquestion.append(question+\" \" + b)\n",
    "#             curquestion.append(question+\" \" + c)\n",
    "#             curquestion.append(question+\" \" + d)\n",
    "#             curquestion.append(question+\" \" + e)\n",
    "            questionCombos.append(curquestion)\n",
    "\n",
    "        self.questions = questions\n",
    "        self.numQuestions = numQuestions\n",
    "        self.questionCombos = questionCombos"
   ]
  }
 ],
 "metadata": {
  "kernelspec": {
   "display_name": "Python 2",
   "language": "python",
   "name": "python2"
  },
  "language_info": {
   "codemirror_mode": {
    "name": "ipython",
    "version": 2
   },
   "file_extension": ".py",
   "mimetype": "text/x-python",
   "name": "python",
   "nbconvert_exporter": "python",
   "pygments_lexer": "ipython2",
   "version": "2.7.10"
  }
 },
 "nbformat": 4,
 "nbformat_minor": 0
}
