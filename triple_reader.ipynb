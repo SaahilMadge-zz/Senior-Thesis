{
 "cells": [
  {
   "cell_type": "code",
   "execution_count": 8,
   "metadata": {
    "collapsed": true
   },
   "outputs": [],
   "source": [
    "import os\n",
    "import numpy as np"
   ]
  },
  {
   "cell_type": "code",
   "execution_count": 48,
   "metadata": {
    "collapsed": false
   },
   "outputs": [],
   "source": [
    "class triple_reader:\n",
    "    \n",
    "    def __init__(self, filename):\n",
    "        \n",
    "#     filename = (\"/Users/SaahilM/Documents/Princeton/Academics/Thesis/\"\n",
    "#     \"Senior Thesis Code/ModifiedEntityGraph/prod/MCTest/production/MCTest/testOutput.txt\")\n",
    "\n",
    "        tripleList = []\n",
    "\n",
    "        f = open(filename, 'r')\n",
    "        for triple in f:\n",
    "            # remove brackets, commas\n",
    "        #      print triple\n",
    "            # print triple[1:-1]\n",
    "            # print triple[2:-3]\n",
    "            formattedTriple = np.array(triple[2:-2].strip().split(\",\"))\n",
    "        #     print formattedTriple\n",
    "            remPOS = np.vectorize(lambda x: x.strip().split(\"/\")[0])\n",
    "            # remove part of speech\n",
    "            newFormattedTriple = remPOS(formattedTriple)\n",
    "        #     print newFormattedTriple\n",
    "            tripleList.append(newFormattedTriple)\n",
    "        self.tripleList = np.array(tripleList)\n",
    "    #     print tripleList\n",
    "    #     print len(tripleList)\n",
    "        # Create the entity-relation tensor\n",
    "        enSet = set()\n",
    "        relSet = set()\n",
    "        for triple in tripleList:\n",
    "            # Add the two entities and relation to the set\n",
    "            en1 = triple[0]\n",
    "            rel = triple[1]\n",
    "            en2 = triple[2]\n",
    "            enSet.add(en1)\n",
    "            enSet.add(en2)\n",
    "            relSet.add(rel)\n",
    "        #     for word in triple:\n",
    "        #         if word not in wordSet:\n",
    "        #             wordSet.add(word)\n",
    "#         print enSet\n",
    "#         print relSet\n",
    "        numEns = len(enSet)\n",
    "        numRels = len(relSet)\n",
    "#         print numEns\n",
    "#         print numRels\n",
    "\n",
    "        # create a mapping of entities to integers and reverse\n",
    "        enMap = {}\n",
    "        relMap = {}\n",
    "        counter = 0\n",
    "        for en in enSet:\n",
    "            enMap[en] = counter\n",
    "            counter += 1\n",
    "        counter = 0\n",
    "        for rel in relSet:\n",
    "            relMap[rel] = counter\n",
    "            counter += 1\n",
    "        revEn=dict([reversed(i) for i in enMap.items()])\n",
    "        enMap.update(revEn)\n",
    "        revRel=dict([reversed(i) for i in relMap.items()])\n",
    "        relMap.update(revRel)\n",
    "#         print ''\n",
    "#         print enMap\n",
    "#         print relMap\n",
    "\n",
    "        # make entity-relation tensor now\n",
    "        tensor = []\n",
    "        for i in xrange(numRels):\n",
    "            tensor.append(np.zeros((numEns, numEns)))\n",
    "#         tensor = np.array(tensor)\n",
    "\n",
    "        for triple in tripleList:\n",
    "            en1 = triple[0]\n",
    "            rel = triple[1]\n",
    "            en2 = triple[2]\n",
    "\n",
    "            tensor[relMap[rel]][enMap[en1]][enMap[en2]] = 1\n",
    "#         print np.sum(tensor)\n",
    "        \n",
    "        self.enSet = enSet\n",
    "        self.relSet = relSet\n",
    "        self.enMap = enMap\n",
    "        self.relMap = relMap\n",
    "        self.tensor = tensor"
   ]
  },
  {
   "cell_type": "code",
   "execution_count": null,
   "metadata": {
    "collapsed": true
   },
   "outputs": [],
   "source": []
  }
 ],
 "metadata": {
  "kernelspec": {
   "display_name": "Python 2",
   "language": "python",
   "name": "python2"
  },
  "language_info": {
   "codemirror_mode": {
    "name": "ipython",
    "version": 2
   },
   "file_extension": ".py",
   "mimetype": "text/x-python",
   "name": "python",
   "nbconvert_exporter": "python",
   "pygments_lexer": "ipython2",
   "version": "2.7.10"
  }
 },
 "nbformat": 4,
 "nbformat_minor": 0
}
