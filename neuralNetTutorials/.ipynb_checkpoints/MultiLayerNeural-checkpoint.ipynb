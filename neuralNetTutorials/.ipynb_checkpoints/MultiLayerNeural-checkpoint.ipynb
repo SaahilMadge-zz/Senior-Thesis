{
 "cells": [
  {
   "cell_type": "code",
   "execution_count": 1,
   "metadata": {
    "collapsed": true
   },
   "outputs": [],
   "source": [
    "import numpy as np"
   ]
  },
  {
   "cell_type": "code",
   "execution_count": 2,
   "metadata": {
    "collapsed": true
   },
   "outputs": [],
   "source": [
    "def sigmoid(x):\n",
    "    return (1. / (1+np.exp(-x)))"
   ]
  },
  {
   "cell_type": "code",
   "execution_count": 3,
   "metadata": {
    "collapsed": true
   },
   "outputs": [],
   "source": [
    "def sigmoidDeriv(x):\n",
    "    #x must be a sigmoid itself\n",
    "    return x * (1-x)"
   ]
  },
  {
   "cell_type": "code",
   "execution_count": 4,
   "metadata": {
    "collapsed": false
   },
   "outputs": [
    {
     "name": "stdout",
     "output_type": "stream",
     "text": [
      "0.25\n",
      "0.196611933241\n",
      "0.196611933241\n"
     ]
    }
   ],
   "source": [
    "print sigmoidDeriv(sigmoid(0))\n",
    "print sigmoidDeriv(sigmoid(1))\n",
    "print sigmoidDeriv(sigmoid(-1))"
   ]
  },
  {
   "cell_type": "code",
   "execution_count": null,
   "metadata": {
    "collapsed": true
   },
   "outputs": [],
   "source": [
    "data = np.array([[0,0,1],[0,1,1],[1,0,1],[1,1,1]])\n",
    "output_arr = np.array([[0],[1],[1],[0]])\n",
    "\n",
    "# initialize random set of weights (3 -> 1)\n",
    "np.random.seed(1)\n",
    "\n",
    "# we will have 5 layers, each layer of shape (100,100)\n",
    "numLayers = 10\n",
    "w = []\n",
    "w.append(np.random.random((3,100))*2 - 1)\n",
    "\n",
    "for i in range(numLayers - 2):\n",
    "    w.append(np.random.random((100,100))*2 - 1)\n",
    "\n",
    "# output weights\n",
    "w.append(np.random.random((100, 1))*2 - 1)\n"
   ]
  }
 ],
 "metadata": {
  "kernelspec": {
   "display_name": "Python 2",
   "language": "python",
   "name": "python2"
  },
  "language_info": {
   "codemirror_mode": {
    "name": "ipython",
    "version": 2
   },
   "file_extension": ".py",
   "mimetype": "text/x-python",
   "name": "python",
   "nbconvert_exporter": "python",
   "pygments_lexer": "ipython2",
   "version": "2.7.10"
  }
 },
 "nbformat": 4,
 "nbformat_minor": 0
}
