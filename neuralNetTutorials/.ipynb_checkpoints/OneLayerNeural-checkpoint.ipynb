{
 "cells": [
  {
   "cell_type": "code",
   "execution_count": 93,
   "metadata": {
    "collapsed": true
   },
   "outputs": [],
   "source": [
    "import numpy as np"
   ]
  },
  {
   "cell_type": "code",
   "execution_count": 94,
   "metadata": {
    "collapsed": false
   },
   "outputs": [],
   "source": [
    "def sigmoid(x):\n",
    "    return (1. / (1+np.exp(-x)))"
   ]
  },
  {
   "cell_type": "code",
   "execution_count": 95,
   "metadata": {
    "collapsed": false
   },
   "outputs": [],
   "source": [
    "def sigmoidDeriv(x):\n",
    "    return sigmoid(x) * (1-sigmoid(x))"
   ]
  },
  {
   "cell_type": "code",
   "execution_count": 96,
   "metadata": {
    "collapsed": false
   },
   "outputs": [
    {
     "name": "stdout",
     "output_type": "stream",
     "text": [
      "0.25\n",
      "0.196611933241\n",
      "0.196611933241\n"
     ]
    }
   ],
   "source": [
    "print sigmoidDeriv(0)\n",
    "print sigmoidDeriv(1)\n",
    "print sigmoidDeriv(-1)"
   ]
  },
  {
   "cell_type": "code",
   "execution_count": 97,
   "metadata": {
    "collapsed": false
   },
   "outputs": [
    {
     "name": "stdout",
     "output_type": "stream",
     "text": [
      "[[-0.16595599]\n",
      " [ 0.44064899]\n",
      " [-0.99977125]]\n",
      "[[0 0 1]\n",
      " [1 1 1]\n",
      " [1 0 1]\n",
      " [0 1 1]]\n",
      "Output after training: \n",
      "[[ 0.00966449]\n",
      " [ 0.99211957]\n",
      " [ 0.99358898]\n",
      " [ 0.00786506]]\n"
     ]
    }
   ],
   "source": [
    "data = np.array([[0,0,1],[1,1,1],[1,0,1],[0,1,1]])\n",
    "output_arr = np.array([[0],[1],[1],[0]])\n",
    "\n",
    "# initialize random set of weights (3 -> 1)\n",
    "np.random.seed(1)\n",
    "w_1 = np.random.random((3,1))*2 - 1\n",
    "print w_1\n",
    "print data\n",
    "\n",
    "for i in range(10000):\n",
    "    l0 = data\n",
    "    y = output_arr\n",
    "\n",
    "    l1 = l0.dot(w_1)\n",
    "    l1_output = sigmoid(l1)\n",
    "    l1_error = y - l1_output\n",
    "    l1_delta = l1_error * sigmoidDeriv(l1)\n",
    "\n",
    "    w_1 += l0.T.dot(l1_delta)\n",
    "\n",
    "print \"Output after training: \"\n",
    "print l1_output"
   ]
  },
  {
   "cell_type": "code",
   "execution_count": null,
   "metadata": {
    "collapsed": true
   },
   "outputs": [],
   "source": []
  }
 ],
 "metadata": {
  "kernelspec": {
   "display_name": "Python 2",
   "language": "python",
   "name": "python2"
  },
  "language_info": {
   "codemirror_mode": {
    "name": "ipython",
    "version": 2
   },
   "file_extension": ".py",
   "mimetype": "text/x-python",
   "name": "python",
   "nbconvert_exporter": "python",
   "pygments_lexer": "ipython2",
   "version": "2.7.10"
  }
 },
 "nbformat": 4,
 "nbformat_minor": 0
}
