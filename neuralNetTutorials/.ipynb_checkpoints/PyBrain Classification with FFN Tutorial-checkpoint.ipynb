{
 "cells": [
  {
   "cell_type": "code",
   "execution_count": 1,
   "metadata": {
    "collapsed": true
   },
   "outputs": [],
   "source": [
    "from pybrain.datasets            import ClassificationDataSet\n",
    "from pybrain.utilities           import percentError\n",
    "from pybrain.tools.shortcuts     import buildNetwork\n",
    "from pybrain.supervised.trainers import BackpropTrainer\n",
    "from pybrain.structure.modules   import SoftmaxLayer"
   ]
  },
  {
   "cell_type": "code",
   "execution_count": 2,
   "metadata": {
    "collapsed": true
   },
   "outputs": [],
   "source": [
    "from pylab import ion, ioff, figure, draw, contourf, clf, show, hold, plot\n",
    "from scipy import diag, arange, meshgrid, where\n",
    "from numpy.random import multivariate_normal"
   ]
  },
  {
   "cell_type": "code",
   "execution_count": 5,
   "metadata": {
    "collapsed": false
   },
   "outputs": [
    {
     "name": "stderr",
     "output_type": "stream",
     "text": [
      "/Library/Python/2.7/site-packages/ipykernel/__main__.py:6: DeprecationWarning: using a non-integer number instead of an integer will result in an error in the future\n"
     ]
    }
   ],
   "source": [
    "means = [(-1,0),(2,4),(3,1)]\n",
    "cov = [diag([1,1]), diag([0.5,1.2]), diag([1.5,0.7])]\n",
    "alldata = ClassificationDataSet(2, 1, nb_classes=3)\n",
    "for n in xrange(400):\n",
    "    for klass in range(3):\n",
    "        input = multivariate_normal(means[klass],cov[klass])\n",
    "        alldata.addSample(input, [klass])"
   ]
  },
  {
   "cell_type": "code",
   "execution_count": 6,
   "metadata": {
    "collapsed": true
   },
   "outputs": [],
   "source": [
    "tstdata, trndata = alldata.splitWithProportion( 0.25 )"
   ]
  },
  {
   "cell_type": "code",
   "execution_count": 9,
   "metadata": {
    "collapsed": false
   },
   "outputs": [],
   "source": [
    "trndata._convertToOneOfMany( )\n",
    "tstdata._convertToOneOfMany( )"
   ]
  },
  {
   "cell_type": "code",
   "execution_count": 10,
   "metadata": {
    "collapsed": false
   },
   "outputs": [
    {
     "name": "stdout",
     "output_type": "stream",
     "text": [
      "Number of training patterns:  900\n",
      "Input and output dimensions:  2 3\n",
      "First sample (input, target, class):\n",
      "[-2.72227231  1.30472781] [1 0 0] [ 0.]\n"
     ]
    }
   ],
   "source": [
    "print \"Number of training patterns: \", len(trndata)\n",
    "print \"Input and output dimensions: \", trndata.indim, trndata.outdim\n",
    "print \"First sample (input, target, class):\"\n",
    "print trndata['input'][0], trndata['target'][0], trndata['class'][0]"
   ]
  },
  {
   "cell_type": "code",
   "execution_count": 11,
   "metadata": {
    "collapsed": true
   },
   "outputs": [],
   "source": [
    "fnn = buildNetwork(trndata.indim, 5, trndata.outdim, outclass=SoftmaxLayer)"
   ]
  },
  {
   "cell_type": "code",
   "execution_count": 12,
   "metadata": {
    "collapsed": true
   },
   "outputs": [],
   "source": [
    "trainer = BackpropTrainer( fnn, dataset=trndata, momentum=0.1, verbose=True, weightdecay=0.01 )"
   ]
  },
  {
   "cell_type": "code",
   "execution_count": 13,
   "metadata": {
    "collapsed": true
   },
   "outputs": [],
   "source": [
    "ticks = arange(-3.,6.,0.2)\n",
    "X, Y = meshgrid(ticks, ticks)\n",
    "# need column vectors in dataset, not arrays\n",
    "griddata = ClassificationDataSet(2,1, nb_classes=3)\n",
    "for i in xrange(X.size):\n",
    "    griddata.addSample([X.ravel()[i],Y.ravel()[i]], [0])\n",
    "griddata._convertToOneOfMany()  # this is still needed to make the fnn feel comfy"
   ]
  },
  {
   "cell_type": "code",
   "execution_count": 14,
   "metadata": {
    "collapsed": false
   },
   "outputs": [
    {
     "name": "stdout",
     "output_type": "stream",
     "text": [
      "Total error: 0.0599319423527\n",
      "epoch:    1   train error: 11.22%   test error: 12.33%\n",
      "Total error: 0.0310532113902\n",
      "epoch:    2   train error:  7.67%   test error:  8.67%\n",
      "Total error: 0.0234516260431\n",
      "epoch:    3   train error:  6.33%   test error:  7.67%\n",
      "Total error: 0.0211476559117\n",
      "epoch:    4   train error:  6.22%   test error:  7.33%\n",
      "Total error: 0.019849996396\n",
      "epoch:    5   train error:  6.00%   test error:  6.67%\n",
      "Total error: 0.0191768735108\n",
      "epoch:    6   train error:  6.11%   test error:  6.67%\n",
      "Total error: 0.0187415130779\n",
      "epoch:    7   train error:  6.67%   test error:  9.00%\n",
      "Total error: 0.0184965877155\n",
      "epoch:    8   train error:  5.56%   test error:  7.00%\n",
      "Total error: 0.0183229044819\n",
      "epoch:    9   train error:  5.67%   test error:  7.00%\n",
      "Total error: 0.0178714371407\n",
      "epoch:   10   train error:  6.33%   test error:  8.33%\n",
      "Total error: 0.0180967942379\n",
      "epoch:   11   train error:  5.67%   test error:  7.00%\n",
      "Total error: 0.017796492576\n",
      "epoch:   12   train error:  5.33%   test error:  6.67%\n",
      "Total error: 0.0177544074746\n",
      "epoch:   13   train error:  5.11%   test error:  6.67%\n",
      "Total error: 0.0175618281166\n",
      "epoch:   14   train error:  5.22%   test error:  6.00%\n",
      "Total error: 0.0175482430322\n",
      "epoch:   15   train error:  5.33%   test error:  6.00%\n",
      "Total error: 0.0173642902779\n",
      "epoch:   16   train error:  5.22%   test error:  6.33%\n",
      "Total error: 0.0173866378828\n",
      "epoch:   17   train error:  5.33%   test error:  6.00%\n",
      "Total error: 0.0173678739575\n",
      "epoch:   18   train error:  5.22%   test error:  6.33%\n",
      "Total error: 0.0170942153206\n",
      "epoch:   19   train error:  4.89%   test error:  6.33%\n",
      "Total error: 0.0172431552785\n",
      "epoch:   20   train error:  4.89%   test error:  6.33%\n"
     ]
    }
   ],
   "source": [
    "for i in range(20):\n",
    "    trainer.trainEpochs( 1 )\n",
    "    trnresult = percentError( trainer.testOnClassData(),\n",
    "                              trndata['class'] )\n",
    "    tstresult = percentError( trainer.testOnClassData(\n",
    "           dataset=tstdata ), tstdata['class'] )\n",
    "\n",
    "    print \"epoch: %4d\" % trainer.totalepochs, \\\n",
    "          \"  train error: %5.2f%%\" % trnresult, \\\n",
    "          \"  test error: %5.2f%%\" % tstresult\n",
    "    \n",
    "    out = fnn.activateOnDataset(griddata)\n",
    "    out = out.argmax(axis=1)  # the highest output activation gives the class\n",
    "    out = out.reshape(X.shape)\n",
    "    \n",
    "    figure(1)\n",
    "    ioff()  # interactive graphics off\n",
    "    clf()   # clear the plot\n",
    "    hold(True) # overplot on\n",
    "    for c in [0,1,2]:\n",
    "        here, _ = where(tstdata['class']==c)\n",
    "        plot(tstdata['input'][here,0],tstdata['input'][here,1],'o')\n",
    "    if out.max()!=out.min():  # safety check against flat field\n",
    "        contourf(X, Y, out)   # plot the contour\n",
    "    ion()   # interactive graphics on\n",
    "    draw()  # update the plot\n",
    "\n",
    "ioff()\n",
    "show()"
   ]
  },
  {
   "cell_type": "code",
   "execution_count": null,
   "metadata": {
    "collapsed": true
   },
   "outputs": [],
   "source": []
  }
 ],
 "metadata": {
  "kernelspec": {
   "display_name": "Python 2",
   "language": "python",
   "name": "python2"
  },
  "language_info": {
   "codemirror_mode": {
    "name": "ipython",
    "version": 2
   },
   "file_extension": ".py",
   "mimetype": "text/x-python",
   "name": "python",
   "nbconvert_exporter": "python",
   "pygments_lexer": "ipython2",
   "version": "2.7.10"
  }
 },
 "nbformat": 4,
 "nbformat_minor": 0
}
