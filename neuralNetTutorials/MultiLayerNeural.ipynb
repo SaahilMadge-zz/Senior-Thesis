{
 "cells": [
  {
   "cell_type": "code",
   "execution_count": 1,
   "metadata": {
    "collapsed": true
   },
   "outputs": [],
   "source": [
    "import numpy as np"
   ]
  },
  {
   "cell_type": "code",
   "execution_count": 2,
   "metadata": {
    "collapsed": true
   },
   "outputs": [],
   "source": [
    "def sigmoid(x):\n",
    "    return (1. / (1+np.exp(-x)))"
   ]
  },
  {
   "cell_type": "code",
   "execution_count": 3,
   "metadata": {
    "collapsed": true
   },
   "outputs": [],
   "source": [
    "def sigmoidDeriv(x):\n",
    "    #x must be a sigmoid itself\n",
    "    return x * (1-x)"
   ]
  },
  {
   "cell_type": "code",
   "execution_count": 4,
   "metadata": {
    "collapsed": false
   },
   "outputs": [
    {
     "name": "stdout",
     "output_type": "stream",
     "text": [
      "0.25\n",
      "0.196611933241\n",
      "0.196611933241\n"
     ]
    }
   ],
   "source": [
    "print sigmoidDeriv(sigmoid(0))\n",
    "print sigmoidDeriv(sigmoid(1))\n",
    "print sigmoidDeriv(sigmoid(-1))"
   ]
  },
  {
   "cell_type": "code",
   "execution_count": 6,
   "metadata": {
    "collapsed": false
   },
   "outputs": [
    {
     "name": "stdout",
     "output_type": "stream",
     "text": [
      "[[-0.02523573]\n",
      " [ 0.11873129]\n",
      " [ 0.12209899]\n",
      " [-0.02702414]]\n"
     ]
    },
    {
     "ename": "ValueError",
     "evalue": "matrices are not aligned",
     "output_type": "error",
     "traceback": [
      "\u001b[0;31m---------------------------------------------------------------------------\u001b[0m",
      "\u001b[0;31mValueError\u001b[0m                                Traceback (most recent call last)",
      "\u001b[0;32m<ipython-input-6-6b0ae4a42f59>\u001b[0m in \u001b[0;36m<module>\u001b[0;34m()\u001b[0m\n\u001b[1;32m     40\u001b[0m \u001b[0;34m\u001b[0m\u001b[0m\n\u001b[1;32m     41\u001b[0m     \u001b[0;32mwhile\u001b[0m \u001b[0;34m(\u001b[0m\u001b[0mcur_index\u001b[0m \u001b[0;34m>=\u001b[0m \u001b[0;36m0\u001b[0m\u001b[0;34m)\u001b[0m\u001b[0;34m:\u001b[0m\u001b[0;34m\u001b[0m\u001b[0m\n\u001b[0;32m---> 42\u001b[0;31m         \u001b[0mcur_error\u001b[0m \u001b[0;34m=\u001b[0m \u001b[0mcur_delta\u001b[0m\u001b[0;34m.\u001b[0m\u001b[0mdot\u001b[0m\u001b[0;34m(\u001b[0m\u001b[0mw\u001b[0m\u001b[0;34m[\u001b[0m\u001b[0mcur_index\u001b[0m\u001b[0;34m]\u001b[0m\u001b[0;34m.\u001b[0m\u001b[0mT\u001b[0m\u001b[0;34m)\u001b[0m\u001b[0;34m\u001b[0m\u001b[0m\n\u001b[0m\u001b[1;32m     43\u001b[0m         \u001b[0mcur_output\u001b[0m \u001b[0;34m=\u001b[0m \u001b[0mstate_outputs\u001b[0m\u001b[0;34m[\u001b[0m\u001b[0mcur_index\u001b[0m\u001b[0;34m]\u001b[0m\u001b[0;34m\u001b[0m\u001b[0m\n\u001b[1;32m     44\u001b[0m         \u001b[0mw\u001b[0m\u001b[0;34m[\u001b[0m\u001b[0mcur_index\u001b[0m\u001b[0;34m]\u001b[0m \u001b[0;34m+=\u001b[0m \u001b[0mcur_output\u001b[0m\u001b[0;34m.\u001b[0m\u001b[0mT\u001b[0m\u001b[0;34m.\u001b[0m\u001b[0mdot\u001b[0m\u001b[0;34m(\u001b[0m\u001b[0mcur_delta\u001b[0m\u001b[0;34m)\u001b[0m\u001b[0;34m\u001b[0m\u001b[0m\n",
      "\u001b[0;31mValueError\u001b[0m: matrices are not aligned"
     ]
    }
   ],
   "source": [
    "data = np.array([[0,0,1],[0,1,1],[1,0,1],[1,1,1]])\n",
    "output_arr = np.array([[0],[1],[1],[0]])\n",
    "\n",
    "# initialize random set of weights (3 -> 1)\n",
    "np.random.seed(1)\n",
    "\n",
    "# we will have 5 layers, each layer of shape (100,100)\n",
    "numLayers = 10\n",
    "w = []\n",
    "w.append(np.random.random((3,100))*2 - 1)\n",
    "\n",
    "for i in range(numLayers - 2):\n",
    "    w.append(np.random.random((100,100))*2 - 1)\n",
    "\n",
    "# output weights\n",
    "w.append(np.random.random((100, 1))*2 - 1)\n",
    "\n",
    "for i in range(10):\n",
    "    l0 = data\n",
    "    y = output_arr\n",
    "        \n",
    "    state_outputs = []\n",
    "    state_outputs.append(l0)\n",
    "    \n",
    "    # propagate forwards\n",
    "    for weight_matrix in w:\n",
    "        cur_input = state_outputs[-1]\n",
    "        cur_raw = cur_input.dot(weight_matrix)\n",
    "        cur_output = sigmoid(cur_raw)\n",
    "        state_outputs.append(cur_output)\n",
    "        \n",
    "    final_output = state_outputs[-1]\n",
    "    final_error = y - final_output\n",
    "    final_delta = final_error * sigmoidDeriv(final_output)\n",
    "        \n",
    "    cur_delta = final_delta\n",
    "    print cur_delta\n",
    "    \n",
    "    cur_index = len(w) - 1\n",
    "    \n",
    "    while (cur_index >= 0):\n",
    "        cur_error = cur_delta.dot(w[cur_index].T)\n",
    "        cur_output = state_outputs[cur_index]\n",
    "        w[cur_index] += cur_output.T.dot(cur_delta)\n",
    "        cur_delta = cur_error * sigmoidDeriv(cur_output)\n",
    "\n",
    "print \"Output after training: \"\n",
    "print final_output"
   ]
  },
  {
   "cell_type": "code",
   "execution_count": null,
   "metadata": {
    "collapsed": true
   },
   "outputs": [],
   "source": []
  }
 ],
 "metadata": {
  "kernelspec": {
   "display_name": "Python 2",
   "language": "python",
   "name": "python2"
  },
  "language_info": {
   "codemirror_mode": {
    "name": "ipython",
    "version": 2
   },
   "file_extension": ".py",
   "mimetype": "text/x-python",
   "name": "python",
   "nbconvert_exporter": "python",
   "pygments_lexer": "ipython2",
   "version": "2.7.10"
  }
 },
 "nbformat": 4,
 "nbformat_minor": 0
}
