{
 "cells": [
  {
   "cell_type": "code",
   "execution_count": 11,
   "metadata": {
    "collapsed": true
   },
   "outputs": [],
   "source": [
    "import numpy as np"
   ]
  },
  {
   "cell_type": "code",
   "execution_count": 12,
   "metadata": {
    "collapsed": true
   },
   "outputs": [],
   "source": [
    "def sigmoid(x):\n",
    "    return (1. / (1+np.exp(-x)))"
   ]
  },
  {
   "cell_type": "code",
   "execution_count": 13,
   "metadata": {
    "collapsed": true
   },
   "outputs": [],
   "source": [
    "def sigmoidDeriv(x):\n",
    "    return sigmoid(x) * (1-sigmoid(x))"
   ]
  },
  {
   "cell_type": "code",
   "execution_count": 14,
   "metadata": {
    "collapsed": false
   },
   "outputs": [
    {
     "name": "stdout",
     "output_type": "stream",
     "text": [
      "0.25\n",
      "0.196611933241\n",
      "0.196611933241\n"
     ]
    }
   ],
   "source": [
    "print sigmoidDeriv(0)\n",
    "print sigmoidDeriv(1)\n",
    "print sigmoidDeriv(-1)"
   ]
  },
  {
   "cell_type": "code",
   "execution_count": 32,
   "metadata": {
    "collapsed": false
   },
   "outputs": [
    {
     "name": "stdout",
     "output_type": "stream",
     "text": [
      "[[-0.16595599  0.44064899 -0.99977125 -0.39533485 -0.70648822 -0.81532281\n",
      "  -0.62747958 -0.30887855]\n",
      " [-0.20646505  0.07763347 -0.16161097  0.370439   -0.5910955   0.75623487\n",
      "  -0.94522481  0.34093502]\n",
      " [-0.1653904   0.11737966 -0.71922612 -0.60379702  0.60148914  0.93652315\n",
      "  -0.37315164  0.38464523]]\n",
      "[[ 0.7527783 ]\n",
      " [ 0.78921333]\n",
      " [-0.82991158]\n",
      " [-0.92189043]\n",
      " [-0.66033916]\n",
      " [ 0.75628501]\n",
      " [-0.80330633]\n",
      " [-0.15778475]]\n",
      "Output after training: \n",
      "[[ 0.03638033]\n",
      " [ 0.95877982]\n",
      " [ 0.96093735]\n",
      " [ 0.04540627]]\n"
     ]
    }
   ],
   "source": [
    "data = np.array([[0,0,1],[0,1,1],[1,0,1],[1,1,1]])\n",
    "output_arr = np.array([[0],[1],[1],[0]])\n",
    "\n",
    "# initialize random set of weights (3 -> 1)\n",
    "np.random.seed(1)\n",
    "w_1 = np.random.random((3,8))*2 - 1\n",
    "w_2 = np.random.random((8,1))*2 - 1\n",
    "print w_1\n",
    "print w_2\n",
    "\n",
    "for i in range(1000):\n",
    "    l0 = data\n",
    "    y = output_arr\n",
    "\n",
    "    l1_raw = l0.dot(w_1)\n",
    "    l1_output = sigmoid(l1_raw)\n",
    "#     print l1_output\n",
    "\n",
    "    l2_raw = l1_output.dot(w_2)\n",
    "    l2_output = sigmoid(l2_raw)\n",
    "#     print l2_output\n",
    "\n",
    "    l2_error = y - l2_output\n",
    "#     print l2_error\n",
    "\n",
    "    l2_delta = l2_error * sigmoidDeriv(l2_raw)\n",
    "#     print l2_delta\n",
    "\n",
    "    w_2 += l1_output.T.dot(l2_delta)\n",
    "#     print w_2\n",
    "\n",
    "    l1_error = l2_delta.dot(w_2.T)\n",
    "#     print l1_error\n",
    "\n",
    "    l1_delta = l1_error * sigmoidDeriv(l1_raw)\n",
    "\n",
    "    w_1 += l0.T.dot(l1_delta)\n",
    "\n",
    "print \"Output after training: \"\n",
    "print l2_output"
   ]
  },
  {
   "cell_type": "code",
   "execution_count": null,
   "metadata": {
    "collapsed": true
   },
   "outputs": [],
   "source": []
  }
 ],
 "metadata": {
  "kernelspec": {
   "display_name": "Python 2",
   "language": "python",
   "name": "python2"
  },
  "language_info": {
   "codemirror_mode": {
    "name": "ipython",
    "version": 2
   },
   "file_extension": ".py",
   "mimetype": "text/x-python",
   "name": "python",
   "nbconvert_exporter": "python",
   "pygments_lexer": "ipython2",
   "version": "2.7.10"
  }
 },
 "nbformat": 4,
 "nbformat_minor": 0
}
