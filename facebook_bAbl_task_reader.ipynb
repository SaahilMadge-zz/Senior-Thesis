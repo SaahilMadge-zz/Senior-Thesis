{
 "cells": [
  {
   "cell_type": "code",
   "execution_count": 18,
   "metadata": {
    "collapsed": false
   },
   "outputs": [],
   "source": [
    "import re\n",
    "from sklearn.feature_extraction.text import CountVectorizer\n",
    "\n",
    "# This will be a class to read in + format sentences from bAbl tasks\n",
    "#class vectorize_bAbl_task:\n",
    "\n",
    "class VectorizeTask:\n",
    "    def __init__(self, filename):\n",
    "        self.filename = filename\n",
    "        self.readFile()\n",
    "        self.bagOfWords()\n",
    "        self.createInputMatrices()\n",
    "    \n",
    "    def readFile(self):\n",
    "        f_train = open(self.filename + \"_train.txt\")\n",
    "        \n",
    "        # Add each sentence in the story to the set of stories, resetting when ID hits 1\n",
    "        self.stories = []\n",
    "        cur_story = []\n",
    "        for line in f_train:\n",
    "            split_line = line.split(' ',1)\n",
    "            ID = split_line[0]\n",
    "            if (int(ID) == 1):\n",
    "                self.stories.append(cur_story)\n",
    "                cur_story = []\n",
    "            cur_story.append(split_line[1].lower())\n",
    "        # append the last line, remove the blank at the beginning. Remove numbers\n",
    "        self.stories.append(cur_story)\n",
    "        self.stories = self.stories[1:]\n",
    "        self.stories = map(lambda x: map(lambda y: re.sub(\"\\d\", \"\", y), x), self.stories)\n",
    "    \n",
    "    def printStory(self):\n",
    "        print self.stories\n",
    "        \n",
    "    def bagOfWords(self):\n",
    "        vectorizer = CountVectorizer(analyzer = \"word\", tokenizer = None, preprocessor=None, \n",
    "                                     stop_words=None,max_features=5000)\n",
    "        combinedSentences = [' '.join([sentence for story in self.stories for sentence in story])]\n",
    "        train_data_features = vectorizer.fit_transform(combinedSentences)\n",
    "#         train_data_features = vectorizer.fit_transform([story for story in self.stories])\n",
    "#         print self.stories[0]\n",
    "#         print vectorizer.get_feature_names()\n",
    "#         print train_data_features\n",
    "#         print '--------'\n",
    "        self.vectorizer = vectorizer\n",
    "        self.train_data_features= train_data_features\n",
    "        \n",
    "    def createInputMatrices(self):\n",
    "        text_question_pairs = []\n",
    "        for story in self.stories:\n",
    "            text = \"\"\n",
    "            textMatrix = []\n",
    "            # If it's not a question, just add it to the text. We are just performing one-hot encoding\n",
    "            # on each sentence anyway\n",
    "            for sentence in story:\n",
    "                if \"?\" not in sentence:\n",
    "                    text += sentence\n",
    "                    textMatrix.append(self.vectorizer.transform([sentence]))\n",
    "                else:\n",
    "#                     text_vector = self.vectorizer.transform([text])\n",
    "                    q_vector = self.vectorizer.transform([sentence])\n",
    "                    text_question_pairs.append({\"question\": q_vector, \"text\": text_vector,\n",
    "                                                \"original_question\": sentence, \"original_text\": text})\n",
    "        self.text_question_pairs = text_question_pairs\n",
    "        print text_question_pairs[0][\"original_question\"]\n",
    "        print text_question_pairs[0][\"text\"]\n",
    "    \n",
    "    def getTextQuestionPairs(self):\n",
    "        return self.text_question_pairs"
   ]
  },
  {
   "cell_type": "code",
   "execution_count": 19,
   "metadata": {
    "collapsed": false
   },
   "outputs": [
    {
     "name": "stdout",
     "output_type": "stream",
     "text": [
      "where is mary? \tbathroom\t\n",
      "\n",
      "  (0, 1)\t1\n",
      "  (0, 5)\t1\n",
      "  (0, 7)\t1\n",
      "  (0, 10)\t1\n",
      "  (0, 11)\t1\n",
      "  (0, 14)\t2\n",
      "  (0, 15)\t2\n",
      "  (0, 17)\t1\n"
     ]
    }
   ],
   "source": [
    "task = VectorizeTask(\"/Users/SaahilM/Documents/Princeton/Academics/Thesis/Data/tasks_1-20_v1-2/en/qa1_single-supporting-fact\")"
   ]
  },
  {
   "cell_type": "code",
   "execution_count": null,
   "metadata": {
    "collapsed": true
   },
   "outputs": [],
   "source": []
  }
 ],
 "metadata": {
  "kernelspec": {
   "display_name": "Python 2",
   "language": "python",
   "name": "python2"
  },
  "language_info": {
   "codemirror_mode": {
    "name": "ipython",
    "version": 2
   },
   "file_extension": ".py",
   "mimetype": "text/x-python",
   "name": "python",
   "nbconvert_exporter": "python",
   "pygments_lexer": "ipython2",
   "version": "2.7.10"
  }
 },
 "nbformat": 4,
 "nbformat_minor": 0
}
